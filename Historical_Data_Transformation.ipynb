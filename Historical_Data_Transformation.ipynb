{
  "nbformat": 4,
  "nbformat_minor": 0,
  "metadata": {
    "colab": {
      "provenance": []
    },
    "kernelspec": {
      "name": "python3",
      "display_name": "Python 3"
    },
    "language_info": {
      "name": "python"
    }
  },
  "cells": [
    {
      "cell_type": "code",
      "execution_count": null,
      "metadata": {
        "id": "zJ-3u4FOF5qr"
      },
      "outputs": [],
      "source": [
        "import pandas as pd\n",
        "import numpy as np"
      ]
    },
    {
      "cell_type": "code",
      "source": [
        "# Read input CSV file\n",
        "input_file = \"input.csv\"\n",
        "# Read current employee data from columnar format (e.g., CSV file)\n",
        "current_employee_data = pd.read_csv(input_file)\n"
      ],
      "metadata": {
        "id": "SH110kVuJ98A"
      },
      "execution_count": null,
      "outputs": []
    },
    {
      "cell_type": "code",
      "source": [
        "# Initialize empty list to store transformed data\n",
        "historical_employee_data = []"
      ],
      "metadata": {
        "id": "m3NtNA50JZCf"
      },
      "execution_count": null,
      "outputs": []
    },
    {
      "cell_type": "code",
      "source": [
        "# function to handle each row's logic\n",
        "def process_employee_row(row):\n",
        "    employee_code = row['Employee Code']\n",
        "    date_of_joining = row['Date of Joining']\n",
        "    date_of_exit = row['Date of Exit']\n",
        "\n",
        "    # effective and end dates for the row\n",
        "    effective_date = None\n",
        "    end_date = None\n",
        "\n",
        "    # Compensation with joining date as effective date, end date as engagement 1 date\n",
        "    if pd.notnull(date_of_joining):\n",
        "        effective_date = date_of_joining\n",
        "    end_date = row['Engagement 1 date']\n",
        "    yield {'Employee Code': employee_code,\n",
        "           'Last Compensation': row['Compensation'],\n",
        "           'Compensation': None,\n",
        "           'Last Pay Raise Date': None,\n",
        "           'Variable Pay': None,\n",
        "           'Performance Rating': None,\n",
        "           'Engagement Score': None,\n",
        "           'Effective Date': effective_date,\n",
        "           'End Date': end_date,}\n",
        "\n",
        "    # engagement 1 with engagement1 date as effective date, end date as review1 date\n",
        "    if pd.notnull(row['Engagement 1 date']):\n",
        "        effective_date = row['Engagement 1 date']\n",
        "    end_date = row['Review 1 date']\n",
        "    yield {'Employee Code': employee_code,\n",
        "           'Last Compensation': None,\n",
        "           'Compensation': None,\n",
        "           'Last Pay Raise Date': None,\n",
        "           'Variable Pay': None,\n",
        "           'Performance Rating': None,\n",
        "           'Engagement Score': row['Engagement 1'],\n",
        "           'Effective Date': effective_date,\n",
        "           'End Date': end_date}\n",
        "\n",
        "    # review1 score with review1 date as effective date, end date as compensation1 date\n",
        "    if pd.notnull(row['Review 1 date']):\n",
        "        effective_date = row['Review 1 date']\n",
        "    end_date = row['Compensation 1 date']\n",
        "    yield {'Employee Code': employee_code,\n",
        "           'Last Compensation': None,\n",
        "           'Compensation': None,\n",
        "           'Last Pay Raise Date': None,\n",
        "           'Variable Pay': None,\n",
        "           'Performance Rating': row['Review 1'],\n",
        "           'Engagement Score': None,\n",
        "           'Effective Date': effective_date,\n",
        "           'End Date': end_date}\n",
        "\n",
        "    # compensation values to be changed as last compensation, compensation1 as compensation,\n",
        "    # last pay raise date as compensation1 date, effective date as compensation1 date,\n",
        "    # end date as engagement 1 date\n",
        "    effective_date = row['Compensation 1 date']\n",
        "    end_date = row['Engagement 1 date']\n",
        "    yield {'Employee Code': employee_code,\n",
        "           'Last Compensation': row['Compensation'],\n",
        "           'Compensation': row['Compensation 1'],\n",
        "           'Last Pay Raise Date': row['Compensation 2 date'],\n",
        "           'Variable Pay': None,\n",
        "           'Performance Rating': None,\n",
        "           'Engagement Score': None,\n",
        "           'Effective Date': effective_date,\n",
        "           'End Date': end_date}\n",
        "\n",
        "    # end score as engagement 1, effective date as engagement1 date, end date as review2 date\n",
        "    effective_date = row['Engagement 1 date']\n",
        "    end_date = row['Review 2 date']\n",
        "    yield {'Employee Code': employee_code,\n",
        "           'Last Compensation': None,\n",
        "           'Compensation': None,\n",
        "           'Last Pay Raise Date': None,\n",
        "           'Variable Pay': None,\n",
        "           'Performance Rating': None,\n",
        "           'Engagement Score': row['Engagement 1'],\n",
        "           'Effective Date': effective_date,\n",
        "           'End Date': end_date}\n",
        "\n",
        "    # review 2 as performance rating, effective date as review2 date, end date as compensation 2 date\n",
        "    effective_date = row['Review 2 date']\n",
        "    end_date = row['Compensation 2 date']\n",
        "    yield {'Employee Code': employee_code,\n",
        "           'Last Compensation': None,\n",
        "           'Compensation': row['Compensation 2'],\n",
        "           'Last Pay Raise Date': None,\n",
        "           'Variable Pay': None,\n",
        "           'Performance Rating': row['Review 2'],\n",
        "           'Engagement Score': None,\n",
        "           'Effective Date': effective_date,\n",
        "           'End Date': end_date}\n",
        "\n",
        "    # last compensation as previous compensation value, compensation as compensation 2,\n",
        "    # last pay raise date as compensation 2 date, effective date as compensation 2 date,\n",
        "    # end date as 01-01-2100 as there are not more dates to evaluate\n",
        "    effective_date = row['Compensation 2 date']\n",
        "    end_date = '2100-01-01'\n",
        "    yield {'Employee Code': employee_code,\n",
        "           'Last Compensation': row['Compensation'],\n",
        "           'Compensation': row['Compensation 2'],\n",
        "           'Last Pay Raise Date': row['Compensation 2 date'],\n",
        "           'Variable Pay': None,\n",
        "           'Performance Rating': None,\n",
        "           'Engagement Score': None,\n",
        "           'Effective Date': effective_date,\n",
        "           'End Date': end_date,}"
      ],
      "metadata": {
        "id": "FwdJBWMDXm0F"
      },
      "execution_count": null,
      "outputs": []
    },
    {
      "cell_type": "code",
      "source": [
        "# Iterate through each row of the current employee data and apply the logic\n",
        "historical_employee_data = [row for _, current_row in current_employee_data.iterrows() for row in process_employee_row(current_row)]\n",
        "\n",
        "# Convert the list of dictionaries into a DataFrame\n",
        "historical_employee_df = pd.DataFrame(historical_employee_data)\n"
      ],
      "metadata": {
        "id": "rhgqW-JbYQmw"
      },
      "execution_count": null,
      "outputs": []
    },
    {
      "cell_type": "code",
      "source": [
        "# Write output to CSV\n",
        "output_file = \"historical_employee_data.csv\"\n",
        "historical_employee_df.to_csv(output_file, index=False)"
      ],
      "metadata": {
        "id": "9VmOzhtlYgcb"
      },
      "execution_count": null,
      "outputs": []
    },
    {
      "cell_type": "code",
      "source": [],
      "metadata": {
        "id": "ezVVbKSWaF--"
      },
      "execution_count": null,
      "outputs": []
    }
  ]
}